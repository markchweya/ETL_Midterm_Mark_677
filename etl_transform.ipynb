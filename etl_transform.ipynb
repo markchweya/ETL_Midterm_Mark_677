{
 "cells": [
  {
   "cell_type": "code",
   "execution_count": null,
   "id": "9539aada",
   "metadata": {},
   "outputs": [],
   "source": [
    "import pandas as pd\n",
    "\n",
    "# Load cleaned CSVs - comma-separated\n",
    "raw_data = pd.read_csv('data/raw_data.csv')\n",
    "incremental_data = pd.read_csv('data/incremental_data.csv')\n"
   ]
  },
  {
   "cell_type": "code",
   "execution_count": 16,
   "id": "d0861c41",
   "metadata": {},
   "outputs": [],
   "source": [
    "def apply_transformations(df):\n",
    "    df = df.copy()\n",
    "\n",
    "    # Remove duplicates\n",
    "    df = df.drop_duplicates()\n",
    "\n",
    "    # Fill missing numeric values with median\n",
    "    df.loc[:, 'quantity'] = pd.to_numeric(df['quantity'], errors='coerce')\n",
    "    df.loc[:, 'unit_price'] = pd.to_numeric(df['unit_price'], errors='coerce')\n",
    "    df.loc[:, 'quantity'] = df['quantity'].fillna(df['quantity'].median())\n",
    "    df.loc[:, 'unit_price'] = df['unit_price'].fillna(df['unit_price'].median())\n",
    "\n",
    "    # Add total_price column\n",
    "    df.loc[:, 'total_price'] = df['quantity'] * df['unit_price']\n",
    "\n",
    "    # Convert order_date safely\n",
    "    df.loc[:, 'order_date'] = pd.to_datetime(df['order_date'].astype(str), errors='coerce', dayfirst=True)\n",
    "\n",
    "    # Print debug line to confirm dtype\n",
    "    print(\"Date dtype:\", df['order_date'].dtype)\n",
    "\n",
    "    # Only compute order_month if order_date is datetime64[ns]\n",
    "    if pd.api.types.is_datetime64_any_dtype(df['order_date']):\n",
    "        df.loc[:, 'order_month'] = df['order_date'].dt.month\n",
    "    else:\n",
    "        df.loc[:, 'order_month'] = None  # fallback if conversion fails\n",
    "\n",
    "    # Fill missing regions\n",
    "    df.loc[:, 'region'] = df['region'].fillna('Unknown')\n",
    "\n",
    "    return df\n"
   ]
  },
  {
   "cell_type": "code",
   "execution_count": 17,
   "id": "2662c197",
   "metadata": {},
   "outputs": [
    {
     "name": "stdout",
     "output_type": "stream",
     "text": [
      "Date dtype: object\n",
      "Date dtype: object\n"
     ]
    }
   ],
   "source": [
    "transformed_full = apply_transformations(raw_data)\n",
    "transformed_incremental = apply_transformations(incremental_data)"
   ]
  }
 ],
 "metadata": {
  "kernelspec": {
   "display_name": "Python 3",
   "language": "python",
   "name": "python3"
  },
  "language_info": {
   "codemirror_mode": {
    "name": "ipython",
    "version": 3
   },
   "file_extension": ".py",
   "mimetype": "text/x-python",
   "name": "python",
   "nbconvert_exporter": "python",
   "pygments_lexer": "ipython3",
   "version": "3.12.10"
  }
 },
 "nbformat": 4,
 "nbformat_minor": 5
}
