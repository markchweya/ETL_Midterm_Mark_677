{
 "cells": [
  {
   "cell_type": "code",
   "execution_count": null,
   "id": "9539aada",
   "metadata": {},
   "outputs": [],
   "source": [
    "import pandas as pd\n",
    "\n",
    "# Load cleaned CSVs - comma-separated\n",
    "raw_data = pd.read_csv('data/raw_data.csv')\n",
    "incremental_data = pd.read_csv('data/incremental_data.csv')\n"
   ]
  },
  {
   "cell_type": "code",
   "execution_count": 18,
   "id": "d0861c41",
   "metadata": {},
   "outputs": [],
   "source": [
    "def apply_transformations(df):\n",
    "    df = df.copy()\n",
    "\n",
    "    # Remove duplicates\n",
    "    df = df.drop_duplicates()\n",
    "\n",
    "    # Ensure numeric fields are correct\n",
    "    df.loc[:, 'quantity'] = pd.to_numeric(df['quantity'], errors='coerce')\n",
    "    df.loc[:, 'unit_price'] = pd.to_numeric(df['unit_price'], errors='coerce')\n",
    "    df.loc[:, 'quantity'] = df['quantity'].fillna(df['quantity'].median())\n",
    "    df.loc[:, 'unit_price'] = df['unit_price'].fillna(df['unit_price'].median())\n",
    "\n",
    "    # Add total_price\n",
    "    df.loc[:, 'total_price'] = df['quantity'] * df['unit_price']\n",
    "\n",
    "    # Strip whitespace and convert dates\n",
    "    df['order_date'] = df['order_date'].astype(str).str.strip()\n",
    "    df['order_date'] = pd.to_datetime(df['order_date'], errors='coerce', dayfirst=True)\n",
    "\n",
    "    # Confirm the dtype\n",
    "    print(\"Date dtype after cleaning:\", df['order_date'].dtype)\n",
    "\n",
    "    # Only access .dt if conversion succeeded\n",
    "    if pd.api.types.is_datetime64_any_dtype(df['order_date']):\n",
    "        df.loc[:, 'order_month'] = df['order_date'].dt.month\n",
    "    else:\n",
    "        df.loc[:, 'order_month'] = None\n",
    "\n",
    "    # Fill missing region\n",
    "    df.loc[:, 'region'] = df['region'].fillna('Unknown')\n",
    "\n",
    "    return df\n"
   ]
  },
  {
   "cell_type": "code",
   "execution_count": 19,
   "id": "2662c197",
   "metadata": {},
   "outputs": [
    {
     "name": "stdout",
     "output_type": "stream",
     "text": [
      "Date dtype after cleaning: datetime64[ns]\n",
      "Date dtype after cleaning: datetime64[ns]\n"
     ]
    }
   ],
   "source": [
    "transformed_full = apply_transformations(raw_data)\n",
    "transformed_incremental = apply_transformations(incremental_data)"
   ]
  }
 ],
 "metadata": {
  "kernelspec": {
   "display_name": "Python 3",
   "language": "python",
   "name": "python3"
  },
  "language_info": {
   "codemirror_mode": {
    "name": "ipython",
    "version": 3
   },
   "file_extension": ".py",
   "mimetype": "text/x-python",
   "name": "python",
   "nbconvert_exporter": "python",
   "pygments_lexer": "ipython3",
   "version": "3.12.10"
  }
 },
 "nbformat": 4,
 "nbformat_minor": 5
}
