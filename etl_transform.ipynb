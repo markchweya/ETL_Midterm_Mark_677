{
 "cells": [
  {
   "cell_type": "code",
   "execution_count": null,
   "id": "9539aada",
   "metadata": {},
   "outputs": [],
   "source": [
    "import pandas as pd\n",
    "\n",
    "# Load cleaned CSVs - comma-separated\n",
    "raw_data = pd.read_csv('data/raw_data.csv')\n",
    "incremental_data = pd.read_csv('data/incremental_data.csv')\n"
   ]
  },
  {
   "cell_type": "code",
   "execution_count": 2,
   "id": "d0861c41",
   "metadata": {},
   "outputs": [],
   "source": [
    "# Define transformation function\n",
    "def apply_transformations(df):\n",
    "    df = df.drop_duplicates()"
   ]
  }
 ],
 "metadata": {
  "kernelspec": {
   "display_name": "Python 3",
   "language": "python",
   "name": "python3"
  },
  "language_info": {
   "codemirror_mode": {
    "name": "ipython",
    "version": 3
   },
   "file_extension": ".py",
   "mimetype": "text/x-python",
   "name": "python",
   "nbconvert_exporter": "python",
   "pygments_lexer": "ipython3",
   "version": "3.12.10"
  }
 },
 "nbformat": 4,
 "nbformat_minor": 5
}
