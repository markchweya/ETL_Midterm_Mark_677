{
 "cells": [
  {
   "cell_type": "code",
   "execution_count": null,
   "id": "9539aada",
   "metadata": {},
   "outputs": [],
   "source": [
    "import pandas as pd\n",
    "\n",
    "# Load cleaned CSVs - comma-separated\n",
    "raw_data = pd.read_csv('data/raw_data.csv')\n",
    "incremental_data = pd.read_csv('data/incremental_data.csv')\n"
   ]
  },
  {
   "cell_type": "code",
   "execution_count": 14,
   "id": "d0861c41",
   "metadata": {},
   "outputs": [],
   "source": [
    "def apply_transformations(df):\n",
    "    df = df.copy()  # avoid modifying original DataFrame\n",
    "\n",
    "    df = df.drop_duplicates()\n",
    "\n",
    "    # Fill missing numeric values with median\n",
    "    df.loc[:, 'quantity'] = df['quantity'].fillna(df['quantity'].median())\n",
    "    df.loc[:, 'unit_price'] = df['unit_price'].fillna(df['unit_price'].median())\n",
    "\n",
    "    # Add total_price column\n",
    "    df.loc[:, 'total_price'] = df['quantity'] * df['unit_price']\n",
    "\n",
    "    # Convert order_date safely\n",
    "    df.loc[:, 'order_date'] = pd.to_datetime(df['order_date'].astype(str), errors='coerce', dayfirst=True)\n",
    "    df.loc[:, 'order_month'] = df['order_date'].dt.month\n",
    "\n",
    "    # Fill missing regions\n",
    "    df.loc[:, 'region'] = df['region'].fillna('Unknown')\n",
    "\n",
    "    return df\n"
   ]
  }
 ],
 "metadata": {
  "kernelspec": {
   "display_name": "Python 3",
   "language": "python",
   "name": "python3"
  },
  "language_info": {
   "codemirror_mode": {
    "name": "ipython",
    "version": 3
   },
   "file_extension": ".py",
   "mimetype": "text/x-python",
   "name": "python",
   "nbconvert_exporter": "python",
   "pygments_lexer": "ipython3",
   "version": "3.12.10"
  }
 },
 "nbformat": 4,
 "nbformat_minor": 5
}
