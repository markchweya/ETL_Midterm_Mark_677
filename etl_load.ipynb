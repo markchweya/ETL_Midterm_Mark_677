{
 "cells": [
  {
   "cell_type": "code",
   "execution_count": 2,
   "id": "94a7f0ac",
   "metadata": {},
   "outputs": [
    {
     "name": "stdout",
     "output_type": "stream",
     "text": [
      "Full Data Sample:\n",
      "   order_id customer_name product  quantity  unit_price  order_date   region  \\\n",
      "0         1         Diana  Tablet       2.0       500.0  2024-01-20    South   \n",
      "1         2           Eve  Laptop       2.0       500.0  2024-04-29    North   \n",
      "2         3       Charlie  Laptop       2.0       250.0  2024-01-08  Unknown   \n",
      "3         4           Eve  Laptop       2.0       750.0  2024-01-07     West   \n",
      "4         5           Eve  Tablet       3.0       500.0  2024-03-07    South   \n",
      "\n",
      "   total_price  order_month  \n",
      "0       1000.0          1.0  \n",
      "1       1000.0          4.0  \n",
      "2        500.0          1.0  \n",
      "3       1500.0          1.0  \n",
      "4       1500.0          3.0  \n",
      "\n",
      "Incremental Data Sample:\n",
      "   order_id customer_name product  quantity  unit_price  order_date   region  \\\n",
      "0       101         Alice  Laptop       1.5         900  2024-05-09  Central   \n",
      "1       102          None  Laptop       1.0         300  2024-05-07  Central   \n",
      "2       103          None  Laptop       1.0         600  2024-05-04  Central   \n",
      "3       104          None  Tablet       1.5         300  2024-05-26  Central   \n",
      "4       105         Heidi  Tablet       2.0         600  2024-05-21    North   \n",
      "\n",
      "   total_price  order_month  \n",
      "0       1350.0            5  \n",
      "1        300.0            5  \n",
      "2        600.0            5  \n",
      "3        450.0            5  \n",
      "4       1200.0            5  \n"
     ]
    }
   ],
   "source": [
    "import pandas as pd\n",
    "import sqlite3\n",
    "\n",
    "# Load transformed datasets\n",
    "transformed_full = pd.read_csv('transformed/transformed_full.csv')\n",
    "transformed_incremental = pd.read_csv('transformed/transformed_incremental.csv')\n",
    "\n",
    "# Save to SQLite\n",
    "conn_full = sqlite3.connect('loaded/full_data.db')\n",
    "conn_incremental = sqlite3.connect('loaded/incremental_data.db')\n",
    "\n",
    "transformed_full.to_sql('full_data', conn_full, if_exists='replace', index=False)\n",
    "transformed_incremental.to_sql('incremental_data', conn_incremental, if_exists='replace', index=False)\n",
    "\n",
    "# Preview results\n",
    "print(\"Full Data Sample:\")\n",
    "print(pd.read_sql_query(\"SELECT * FROM full_data LIMIT 5\", conn_full))\n",
    "\n",
    "print(\"\\nIncremental Data Sample:\")\n",
    "print(pd.read_sql_query(\"SELECT * FROM incremental_data LIMIT 5\", conn_incremental))\n",
    "\n",
    "# Close database connections\n",
    "conn_full.close()\n",
    "conn_incremental.close()"
   ]
  }
 ],
 "metadata": {
  "kernelspec": {
   "display_name": "Python 3",
   "language": "python",
   "name": "python3"
  },
  "language_info": {
   "codemirror_mode": {
    "name": "ipython",
    "version": 3
   },
   "file_extension": ".py",
   "mimetype": "text/x-python",
   "name": "python",
   "nbconvert_exporter": "python",
   "pygments_lexer": "ipython3",
   "version": "3.12.10"
  }
 },
 "nbformat": 4,
 "nbformat_minor": 5
}
