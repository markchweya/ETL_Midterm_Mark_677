{
 "cells": [
  {
   "cell_type": "code",
   "execution_count": 4,
   "id": "722921ba",
   "metadata": {},
   "outputs": [
    {
     "name": "stdout",
     "output_type": "stream",
     "text": [
      "Raw Data Head:\n",
      "   order_id customer_name product  quantity  unit_price  order_date region\n",
      "0         1         Diana  Tablet       NaN       500.0  20/01/2024  South\n",
      "1         2           Eve  Laptop       NaN         NaN  29/04/2024  North\n",
      "2         3       Charlie  Laptop       2.0       250.0  08/01/2024    NaN\n",
      "3         4           Eve  Laptop       2.0       750.0  07/01/2024   West\n",
      "4         5           Eve  Tablet       3.0         NaN  07/03/2024  South\n",
      "\n",
      "Raw Data Info:\n",
      "<class 'pandas.core.frame.DataFrame'>\n",
      "RangeIndex: 100 entries, 0 to 99\n",
      "Data columns (total 7 columns):\n",
      " #   Column         Non-Null Count  Dtype  \n",
      "---  ------         --------------  -----  \n",
      " 0   order_id       100 non-null    int64  \n",
      " 1   customer_name  99 non-null     object \n",
      " 2   product        100 non-null    object \n",
      " 3   quantity       74 non-null     float64\n",
      " 4   unit_price     65 non-null     float64\n",
      " 5   order_date     99 non-null     object \n",
      " 6   region         75 non-null     object \n",
      "dtypes: float64(2), int64(1), object(4)\n",
      "memory usage: 5.6+ KB\n",
      "None\n",
      "\n",
      "Incremental Data Head:\n",
      "   order_id customer_name product  quantity  unit_price  order_date   region\n",
      "0       101         Alice  Laptop       NaN         900  09/05/2024  Central\n",
      "1       102           NaN  Laptop       1.0         300  07/05/2024  Central\n",
      "2       103           NaN  Laptop       1.0         600  04/05/2024  Central\n",
      "3       104           NaN  Tablet       NaN         300  26/05/2024  Central\n",
      "4       105         Heidi  Tablet       2.0         600  21/05/2024    North\n",
      "\n",
      "Incremental Data Info:\n",
      "<class 'pandas.core.frame.DataFrame'>\n",
      "RangeIndex: 10 entries, 0 to 9\n",
      "Data columns (total 7 columns):\n",
      " #   Column         Non-Null Count  Dtype  \n",
      "---  ------         --------------  -----  \n",
      " 0   order_id       10 non-null     int64  \n",
      " 1   customer_name  4 non-null      object \n",
      " 2   product        10 non-null     object \n",
      " 3   quantity       6 non-null      float64\n",
      " 4   unit_price     10 non-null     int64  \n",
      " 5   order_date     10 non-null     object \n",
      " 6   region         8 non-null      object \n",
      "dtypes: float64(1), int64(2), object(4)\n",
      "memory usage: 692.0+ bytes\n",
      "None\n"
     ]
    }
   ],
   "source": [
    "# Load data using correct tab delimiter\n",
    "raw_data = pd.read_csv('data/raw_data.csv', sep='\\t')\n",
    "incremental_data = pd.read_csv('data/incremental_data.csv', sep='\\t')\n",
    "\n",
    "# Preview data\n",
    "print(\"Raw Data Head:\")\n",
    "print(raw_data.head())\n",
    "print(\"\\nRaw Data Info:\")\n",
    "print(raw_data.info())\n",
    "\n",
    "print(\"\\nIncremental Data Head:\")\n",
    "print(incremental_data.head())\n",
    "print(\"\\nIncremental Data Info:\")\n",
    "print(incremental_data.info())"
   ]
  }
 ],
 "metadata": {
  "kernelspec": {
   "display_name": "Python 3",
   "language": "python",
   "name": "python3"
  },
  "language_info": {
   "codemirror_mode": {
    "name": "ipython",
    "version": 3
   },
   "file_extension": ".py",
   "mimetype": "text/x-python",
   "name": "python",
   "nbconvert_exporter": "python",
   "pygments_lexer": "ipython3",
   "version": "3.12.10"
  }
 },
 "nbformat": 4,
 "nbformat_minor": 5
}
