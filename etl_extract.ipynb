{
 "cells": [
  {
   "cell_type": "code",
   "execution_count": null,
   "id": "722921ba",
   "metadata": {},
   "outputs": [
    {
     "name": "stdout",
     "output_type": "stream",
     "text": [
      "Raw Data Head:\n",
      "   order_id customer_name product  quantity  unit_price  order_date region\n",
      "0         1         Diana  Tablet       NaN       500.0  20/01/2024  South\n",
      "1         2           Eve  Laptop       NaN         NaN  29/04/2024  North\n",
      "2         3       Charlie  Laptop       2.0       250.0  08/01/2024    NaN\n",
      "3         4           Eve  Laptop       2.0       750.0  07/01/2024   West\n",
      "4         5           Eve  Tablet       3.0         NaN  07/03/2024  South\n",
      "\n",
      "Raw Data Info:\n",
      "<class 'pandas.core.frame.DataFrame'>\n",
      "RangeIndex: 100 entries, 0 to 99\n",
      "Data columns (total 7 columns):\n",
      " #   Column         Non-Null Count  Dtype  \n",
      "---  ------         --------------  -----  \n",
      " 0   order_id       100 non-null    int64  \n",
      " 1   customer_name  99 non-null     object \n",
      " 2   product        100 non-null    object \n",
      " 3   quantity       74 non-null     float64\n",
      " 4   unit_price     65 non-null     float64\n",
      " 5   order_date     99 non-null     object \n",
      " 6   region         75 non-null     object \n",
      "dtypes: float64(2), int64(1), object(4)\n",
      "memory usage: 5.6+ KB\n",
      "None\n",
      "\n",
      "Incremental Data Head:\n",
      "   order_id customer_name product  quantity  unit_price  order_date   region\n",
      "0       101         Alice  Laptop       NaN         900  09/05/2024  Central\n",
      "1       102           NaN  Laptop       1.0         300  07/05/2024  Central\n",
      "2       103           NaN  Laptop       1.0         600  04/05/2024  Central\n",
      "3       104           NaN  Tablet       NaN         300  26/05/2024  Central\n",
      "4       105         Heidi  Tablet       2.0         600  21/05/2024    North\n",
      "\n",
      "Incremental Data Info:\n",
      "<class 'pandas.core.frame.DataFrame'>\n",
      "RangeIndex: 10 entries, 0 to 9\n",
      "Data columns (total 7 columns):\n",
      " #   Column         Non-Null Count  Dtype  \n",
      "---  ------         --------------  -----  \n",
      " 0   order_id       10 non-null     int64  \n",
      " 1   customer_name  4 non-null      object \n",
      " 2   product        10 non-null     object \n",
      " 3   quantity       6 non-null      float64\n",
      " 4   unit_price     10 non-null     int64  \n",
      " 5   order_date     10 non-null     object \n",
      " 6   region         8 non-null      object \n",
      "dtypes: float64(1), int64(2), object(4)\n",
      "memory usage: 692.0+ bytes\n",
      "None\n"
     ]
    }
   ],
   "source": [
    "# Load data using correct tab delimiter\n",
    "raw_data = pd.read_csv('data/raw_data.csv', sep='\\t')\n",
    "incremental_data = pd.read_csv('data/incremental_data.csv', sep='\\t')\n",
    "\n",
    "# Preview data\n",
    "print(\"Raw Data Head:\")\n",
    "print(raw_data.head())\n",
    "print(\"\\nRaw Data Info:\")\n",
    "print(raw_data.info())\n",
    "\n",
    "print(\"\\nIncremental Data Head:\")\n",
    "print(incremental_data.head())\n",
    "print(\"\\nIncremental Data Info:\")\n",
    "print(incremental_data.info())\n",
    "\n"
   ]
  },
  {
   "cell_type": "code",
   "execution_count": 5,
   "id": "36b2cfdc",
   "metadata": {},
   "outputs": [
    {
     "name": "stdout",
     "output_type": "stream",
     "text": [
      "\n",
      "Missing values in Raw Data:\n",
      "order_id          0\n",
      "customer_name     1\n",
      "product           0\n",
      "quantity         26\n",
      "unit_price       35\n",
      "order_date        1\n",
      "region           25\n",
      "dtype: int64\n",
      "\n",
      "Missing values in Incremental Data:\n",
      "order_id         0\n",
      "customer_name    6\n",
      "product          0\n",
      "quantity         4\n",
      "unit_price       0\n",
      "order_date       0\n",
      "region           2\n",
      "dtype: int64\n",
      "\n",
      "Duplicates in Raw Data: 1\n",
      "Duplicates in Incremental Data: 0\n"
     ]
    }
   ],
   "source": [
    "# Check for missing values and duplicates\n",
    "print(\"\\nMissing values in Raw Data:\")\n",
    "print(raw_data.isnull().sum())\n",
    "\n",
    "print(\"\\nMissing values in Incremental Data:\")\n",
    "print(incremental_data.isnull().sum())\n",
    "\n",
    "print(\"\\nDuplicates in Raw Data:\", raw_data.duplicated().sum())\n",
    "print(\"Duplicates in Incremental Data:\", incremental_data.duplicated().sum())"
   ]
  },
  {
   "cell_type": "code",
   "execution_count": 6,
   "id": "c1ce5863",
   "metadata": {},
   "outputs": [],
   "source": [
    "# Save cleaned copy with commas \n",
    "raw_data.to_csv('data/raw_data.csv', index=False)\n",
    "incremental_data.to_csv('data/incremental_data.csv', index=False)"
   ]
  }
 ],
 "metadata": {
  "kernelspec": {
   "display_name": "Python 3",
   "language": "python",
   "name": "python3"
  },
  "language_info": {
   "codemirror_mode": {
    "name": "ipython",
    "version": 3
   },
   "file_extension": ".py",
   "mimetype": "text/x-python",
   "name": "python",
   "nbconvert_exporter": "python",
   "pygments_lexer": "ipython3",
   "version": "3.12.10"
  }
 },
 "nbformat": 4,
 "nbformat_minor": 5
}
